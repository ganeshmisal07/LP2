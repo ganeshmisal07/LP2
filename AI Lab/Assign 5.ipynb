{
 "cells": [
  {
   "cell_type": "code",
   "execution_count": 1,
   "id": "c998cbdf",
   "metadata": {},
   "outputs": [
    {
     "name": "stdout",
     "output_type": "stream",
     "text": [
      "Welcome! How can I assist you?\n",
      "> Hello\n",
      "Hello! How can I assist you?\n",
      "> i want to know my order\n",
      "Sure, I can help you with that. Please provide me with your order details.\n",
      "> i want to do payment\n",
      "To make a payment, please visit our website and proceed to the payment section.\n",
      "> okk\n",
      "I'm sorry, I couldn't understand your request. Could you please rephrase it?\n",
      "> ok\n",
      "I'm sorry, I couldn't understand your request. Could you please rephrase it?\n",
      "> oky\n",
      "I'm sorry, I couldn't understand your request. Could you please rephrase it?\n",
      "> okaay\n",
      "I'm sorry, I couldn't understand your request. Could you please rephrase it?\n",
      "> okkay\n",
      "I'm sorry, I couldn't understand your request. Could you please rephrase it?\n",
      "> bye\n",
      "Goodbye! Have a great day!\n",
      "> exit\n",
      "Thank you for using our service. Goodbye!\n"
     ]
    }
   ],
   "source": [
    "# Define the chatbot function\n",
    "def chatbot_response(user_input):\n",
    "    user_input = user_input.lower()\n",
    "\n",
    "    # Respond to different user inputs\n",
    "    if \"hello\" in user_input:\n",
    "        return \"Hello! How can I assist you?\"\n",
    "    elif \"order\" in user_input:\n",
    "        return \"Sure, I can help you with that. Please provide me with your order details.\"\n",
    "    elif \"payment\" in user_input:\n",
    "        return \"To make a payment, please visit our website and proceed to the payment section.\"\n",
    "    elif \"refund\" in user_input:\n",
    "        return \"I apologize for any inconvenience. To request a refund, please contact our customer support.\"\n",
    "    elif \"thanks\" in user_input or \"thank you\" in user_input:\n",
    "        return \"You're welcome! If you have any more questions, feel free to ask.\"\n",
    "    elif \"bye\" in user_input:\n",
    "        return \"Goodbye! Have a great day!\"\n",
    "    else:\n",
    "        return \"I'm sorry, I couldn't understand your request. Could you please rephrase it?\"\n",
    "\n",
    "# Main interaction loop\n",
    "print(\"Welcome! How can I assist you?\")\n",
    "while True:\n",
    "    user_input = input(\"> \")\n",
    "    if user_input.lower() == \"exit\":\n",
    "        print(\"Thank you for using our service. Goodbye!\")\n",
    "        break\n",
    "    else:\n",
    "        bot_response = chatbot_response(user_input)\n",
    "        print(bot_response)\n"
   ]
  },
  {
   "cell_type": "code",
   "execution_count": null,
   "id": "77476ba5",
   "metadata": {},
   "outputs": [],
   "source": []
  }
 ],
 "metadata": {
  "kernelspec": {
   "display_name": "Python 3 (ipykernel)",
   "language": "python",
   "name": "python3"
  },
  "language_info": {
   "codemirror_mode": {
    "name": "ipython",
    "version": 3
   },
   "file_extension": ".py",
   "mimetype": "text/x-python",
   "name": "python",
   "nbconvert_exporter": "python",
   "pygments_lexer": "ipython3",
   "version": "3.10.2"
  }
 },
 "nbformat": 4,
 "nbformat_minor": 5
}
