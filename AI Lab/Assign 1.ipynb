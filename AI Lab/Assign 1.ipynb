{
 "cells": [
  {
   "cell_type": "code",
   "execution_count": 7,
   "id": "3a383965",
   "metadata": {},
   "outputs": [
    {
     "name": "stdout",
     "output_type": "stream",
     "text": [
      "DFS traversal:\n",
      "[0, 1, 3, 4, 2, 5]\n",
      "BFS traversal:\n",
      "{0, 1, 2, 3, 4, 5}\n"
     ]
    }
   ],
   "source": [
    "def dfs(graph, start, visited=None):\n",
    "    if visited is None:\n",
    "        visited = set()\n",
    "\n",
    "    visited.add(start)\n",
    "    results = [start]\n",
    "\n",
    "    for child in graph[start]:\n",
    "        if child not in visited:\n",
    "            results.extend(dfs(graph, child, visited))\n",
    "\n",
    "    return results\n",
    "\n",
    "\n",
    "\n",
    "def bfs(graph, start):\n",
    "    visited = set()\n",
    "    queue = [start]\n",
    "    while queue:\n",
    "        node = queue.pop(0)\n",
    "        if node not in visited:\n",
    "            visited.add(node)\n",
    "            queue.extend(graph[node])\n",
    "    return visited\n",
    "\n",
    "\n",
    "# Example usage\n",
    "adjacency_list = {\n",
    "    0: [1, 2],\n",
    "    1: [0, 3, 4],\n",
    "    2: [0, 5],\n",
    "    3: [1],\n",
    "    4: [1],\n",
    "    5: [2]\n",
    "}\n",
    "\n",
    "print(\"DFS traversal:\")\n",
    "dfs_result = dfs(adjacency_list, 0)\n",
    "print(dfs_result)\n",
    "\n",
    "print(\"BFS traversal:\")\n",
    "bfs_result = bfs(adjacency_list, 0)\n",
    "print(bfs_result)\n"
   ]
  },
  {
   "cell_type": "code",
   "execution_count": null,
   "id": "195e9ac0",
   "metadata": {},
   "outputs": [],
   "source": []
  }
 ],
 "metadata": {
  "kernelspec": {
   "display_name": "Python 3 (ipykernel)",
   "language": "python",
   "name": "python3"
  },
  "language_info": {
   "codemirror_mode": {
    "name": "ipython",
    "version": 3
   },
   "file_extension": ".py",
   "mimetype": "text/x-python",
   "name": "python",
   "nbconvert_exporter": "python",
   "pygments_lexer": "ipython3",
   "version": "3.10.2"
  }
 },
 "nbformat": 4,
 "nbformat_minor": 5
}
